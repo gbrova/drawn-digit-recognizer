{
 "cells": [
  {
   "cell_type": "code",
   "execution_count": 1,
   "metadata": {
    "collapsed": false
   },
   "outputs": [],
   "source": [
    "# example_trace = {\"xs\":[55,55,55,55,54,54,54,54,54,54,54,54,54,54,54,54,54,54,55,55,56,56,57,57,58,59,60,60,61,62,63,63,64,65,66,67,68,69,70,71,72,72,73,74,75,76,77,78,80,82,83,85,86,87,88,89,90,91,92,93,94,95,96,97,98,99,101,102,103,104,107,108,109,111,112,113,114,115,116,117,118,119,120,121,121,122,123,123,123,124,124,124,124,124,123,123,122,121,120,119,118,117,116,115,114,113,112,111,110,109,108,107,106,105,104,103,102,101,100,99,98,97,96,95,94,92,91,90,89,88,87,86,85,84,83,82,81,80,79,79,78,78,77,77,77,77,78,79,80,81,82,83,84,85,86,87,88,90,92,94,96,99,101,104,107,109,111,114,117,120,122,125,127,129,132,135,137,140,143,145,148,150,151,153,155,157,158,159,161,162,163,165,167,168,169,170,171,172,173,174,175,175,176,176,176,176,176,176,175,174,173,172,171,170,169,168,167,165,163,162,160,159,156,154,151,148,146,143,141,139,137,136,135,133,132,131,130,129,128,127,126,126,125,125,124],\"ys\":[168,166,164,162,160,159,158,157,156,155,154,152,151,149,148,146,144,142,139,138,136,135,134,133,132,131,130,129,128,127,126,125,124,123,122,121,120,119,119,118,118,117,116,116,116,115,115,115,115,115,114,114,114,114,114,115,116,116,117,117,117,118,119,120,121,122,123,124,125,126,128,129,130,131,132,134,135,136,137,138,139,140,141,143,144,145,146,147,148,149,150,151,152,153,154,155,156,157,158,159,160,161,162,163,164,165,166,167,168,169,170,171,172,173,174,175,176,177,178,179,180,181,182,183,184,185,186,187,188,190,191,192,193,194,195,196,197,198,199,200,201,202,203,204,205,206,207,207,208,209,210,211,212,213,214,215,216,218,219,221,222,224,225,227,229,230,231,233,234,235,236,237,238,239,240,241,242,243,244,244,245,245,245,246,246,246,246,245,245,245,244,243,242,241,240,239,238,236,235,233,232,230,228,226,224,223,221,218,216,214,212,210,208,207,205,203,200,198,196,195,194,193,192,191,190,189,188,187,186,185,185,184,184,183,182,182,182,182,182,182,182,183,183,184,184],\"ds\":[None,True,True,True,True,True,True,True,True,True,True,True,True,True,True,True,True,True,True,True,True,True,True,True,True,True,True,True,True,True,True,True,True,True,True,True,True,True,True,True,True,True,True,True,True,True,True,True,True,True,True,True,True,True,True,True,True,True,True,True,True,True,True,True,True,True,True,True,True,True,True,True,True,True,True,True,True,True,True,True,True,True,True,True,True,True,True,True,True,True,True,True,True,True,True,True,True,True,True,True,True,True,True,True,True,True,True,True,True,True,True,True,True,True,True,True,True,True,True,True,True,True,True,True,True,True,True,True,True,True,True,True,True,True,True,True,True,True,True,True,True,True,True,True,True,True,True,True,True,True,True,True,True,True,True,True,True,True,True,True,True,True,True,True,True,True,True,True,True,True,True,True,True,True,True,True,True,True,True,True,True,True,True,True,True,True,True,True,True,True,True,True,True,True,True,True,True,True,True,True,True,True,True,True,True,True,True,True,True,True,True,True,True,True,True,True,True,True,True,True,True,True,True,True,True,True,True,True,True,True,True,True,True,True,True,True,True,True,True,True,True,True,True,True,True]}\n",
    "example_trace = {\"xs\":[95,95,96,97,98,99,100,101,102,103,104,105,106,107,108,109,110,111,112,113,114,115,117,119,120,122,124,127,129,132,135,137,143,146,149,155,158,161,164,167,170,173,176,179,181,184,185,187,188,189,190,191,192,193,194,195,196,197,198,199,200,200,200,200,200,200,200,199,198,197,196,195,194,194,193,193,192,192,191,190,189,188,187,186,184,182,180,177,174,171,168,166,163,160,157,154,148,145,142,140,137,136,135,134,133,132,131,132,134,138,141,144,147,150,153,155,157,159,161,163,165,166,167,170,171,172,175,177,179,181,183,185,187,188,190,192,193,194,195,197,198,199,200,201,202,203,203,202,201,200,199,198,197,196,194,192,190,189,187,186,184,183,181,180,179,178,177,176,175,174,173,172,171,170,169,167,166,165,164,163,162,161,160,158,156,155,154,153,152,151,150,149,148,147,146,145,144,142,141,140,139,138,137,137,136,135,134,133,132,131,129,127,125,124,122,121,119,117,116,113,111,110,110,109,106,105,104,103,102,101,99,98,97,96],\"ys\":[96,95,94,92,90,89,88,87,85,84,83,81,80,78,77,76,75,74,73,72,71,70,69,68,67,66,65,65,65,65,65,65,66,67,68,70,71,72,73,75,76,77,78,79,80,81,82,83,84,85,86,87,88,89,90,91,93,94,96,98,100,102,103,106,107,109,111,114,117,119,121,124,126,129,130,131,132,133,134,135,136,137,138,139,140,141,142,143,143,143,144,145,145,146,147,148,149,150,150,151,152,152,153,153,154,155,156,155,155,154,154,154,154,154,154,154,154,154,154,154,154,155,156,157,157,158,159,160,161,162,163,164,166,167,168,169,170,171,172,173,174,175,176,178,179,180,224,225,225,226,226,227,228,229,230,231,232,233,234,235,236,237,238,239,240,240,241,242,243,243,244,245,246,247,247,248,249,249,249,250,250,250,250,250,250,250,250,250,250,250,249,249,249,249,249,249,248,248,247,247,247,247,247,246,246,245,245,244,243,243,242,242,241,240,239,239,238,237,236,234,233,233,232,232,231,230,229,228,228,227,226,225,224,223]}\n",
    "\n",
    "ex_x = example_trace[\"xs\"]\n",
    "ex_y = example_trace[\"ys\"]\n"
   ]
  },
  {
   "cell_type": "code",
   "execution_count": 2,
   "metadata": {
    "collapsed": true
   },
   "outputs": [],
   "source": [
    "ex_x = [194, 193, 190, 187, 185, 180, 179, 177, 176, 175, 174, 173, 172, 172, 172, 172, 173, 174, 175, 176, 177, 178, 179, 180, 181, 183, 185, 188, 189, 190, 191, 192, 193, 194, 195, 196, 204, 207, 211, 214, 216, 221, 223, 224, 225, 226, 226, 227, 227, 227, 228, 228, 228, 228, 228, 227, 226, 225, 224, 223, 221, 220, 218, 217, 216, 215, 214, 213, 212, 211, 210, 209, 208, 207, 206, 205, 204, 203, 202, 201, 200, 199, 198, 198, 197, 196, 195, 194, 193, 193, 192]\n",
    "ex_y = [129.6999969482422, 129.6999969482422, 131.6999969482422, 134.6999969482422, 136.6999969482422, 140.6999969482422, 142.6999969482422, 145.6999969482422, 147.6999969482422, 150.6999969482422, 152.6999969482422, 155.6999969482422, 158.6999969482422, 161.6999969482422, 164.6999969482422, 170.6999969482422, 177.6999969482422, 185.6999969482422, 189.6999969482422, 193.6999969482422, 197.6999969482422, 201.6999969482422, 205.6999969482422, 208.6999969482422, 212.6999969482422, 218.6999969482422, 225.6999969482422, 231.6999969482422, 233.6999969482422, 235.6999969482422, 236.6999969482422, 237.6999969482422, 238.6999969482422, 239.6999969482422, 240.6999969482422, 241.6999969482422, 242.6999969482422, 240.6999969482422, 236.6999969482422, 234.6999969482422, 232.6999969482422, 227.6999969482422, 223.6999969482422, 221.6999969482422, 219.6999969482422, 216.6999969482422, 213.6999969482422, 210.6999969482422, 207.6999969482422, 204.6999969482422, 201.6999969482422, 198.6999969482422, 195.6999969482422, 192.6999969482422, 189.6999969482422, 187.6999969482422, 184.6999969482422, 182.6999969482422, 179.6999969482422, 176.6999969482422, 173.6999969482422, 170.6999969482422, 163.6999969482422, 160.6999969482422, 157.6999969482422, 155.6999969482422, 153.6999969482422, 150.6999969482422, 148.6999969482422, 146.6999969482422, 143.6999969482422, 142.6999969482422, 139.6999969482422, 138.6999969482422, 136.6999969482422, 135.6999969482422, 134.6999969482422, 133.6999969482422, 132.6999969482422, 130.6999969482422, 129.6999969482422, 128.6999969482422, 127.69999694824219, 126.69999694824219, 124.69999694824219, 123.69999694824219, 121.69999694824219, 120.69999694824219, 119.69999694824219, 118.69999694824219, 118.69999694824219]\n"
   ]
  },
  {
   "cell_type": "code",
   "execution_count": 3,
   "metadata": {
    "collapsed": false
   },
   "outputs": [],
   "source": [
    "def normalize_axis(vals, maxdiff, border=0.4): \n",
    "    (vmin, vmax) = (min(vals), max(vals))\n",
    "    localdiff = vmax - vmin\n",
    "    centering_offset = (maxdiff - localdiff) / 2\n",
    "    centered = [val - vmin + centering_offset for val in vals]\n",
    "    normalized = [val / maxdiff for val in centered]\n",
    "    with_border = [border/2 + (1-border)*val for val in normalized]\n",
    "    return with_border\n",
    "\n",
    "def normalize(xs, ys): \n",
    "    xdiff = max(xs) - min(xs)\n",
    "    ydiff = max(ys) - min(ys)\n",
    "    maxdiff = max(xdiff, ydiff)\n",
    "    xs = normalize_axis(xs, maxdiff)\n",
    "    ys = normalize_axis(ys, maxdiff)\n",
    "    return zip(xs, ys)\n",
    "\n",
    "# nn = normalize_axis(ex_x)"
   ]
  },
  {
   "cell_type": "code",
   "execution_count": null,
   "metadata": {
    "collapsed": false
   },
   "outputs": [],
   "source": []
  },
  {
   "cell_type": "code",
   "execution_count": 4,
   "metadata": {
    "collapsed": false
   },
   "outputs": [],
   "source": [
    "import math\n",
    "import numpy\n",
    "points = [(1,1), (3,3), (5,5)]\n",
    "\n",
    "def make_img_matrix(points, size=100, line_width=2):\n",
    "    img = numpy.zeros((size, size))\n",
    "    eps = 0.00001 # Want to map values in [0, 1] inclusive to [0, size) exclusive. \n",
    "    for x,y in points: \n",
    "        xint = int(math.floor(x*size - eps))\n",
    "        yint = int(math.floor(y*size - eps))\n",
    "        for xwidth in range(line_width):\n",
    "            for ywidth in range(line_width):\n",
    "                img[yint + ywidth, xint + xwidth] = 1\n",
    "    return img\n",
    "\n"
   ]
  },
  {
   "cell_type": "code",
   "execution_count": 5,
   "metadata": {
    "collapsed": true
   },
   "outputs": [],
   "source": [
    "%matplotlib inline"
   ]
  },
  {
   "cell_type": "code",
   "execution_count": 6,
   "metadata": {
    "collapsed": false
   },
   "outputs": [],
   "source": [
    "def draw_plot(ex_x, ex_y):\n",
    "    import matplotlib.pyplot as plt\n",
    "    normalized = normalize(ex_x, ex_y)\n",
    "    img_matrix = make_img_matrix(normalized, size=28)\n",
    "    imgplot = plt.imshow(img_matrix, cmap='gray')\n",
    "    return img_matrix"
   ]
  },
  {
   "cell_type": "code",
   "execution_count": 7,
   "metadata": {
    "collapsed": false
   },
   "outputs": [
    {
     "data": {
      "image/png": "[encoded data removed]",
      "text/plain": [
       "<matplotlib.figure.Figure at 0x7f6951067a90>"
      ]
     },
     "metadata": {},
     "output_type": "display_data"
    }
   ],
   "source": [
    "img_matrix = draw_plot(ex_x, ex_y)"
   ]
  },
  {
   "cell_type": "code",
   "execution_count": null,
   "metadata": {
    "collapsed": true
   },
   "outputs": [],
   "source": []
  },
  {
   "cell_type": "code",
   "execution_count": 8,
   "metadata": {
    "collapsed": false
   },
   "outputs": [
    {
     "name": "stderr",
     "output_type": "stream",
     "text": [
      "Using TensorFlow backend.\n"
     ]
    }
   ],
   "source": [
    "from keras.models import load_model\n",
    "mm = load_model(\"saved_models/model2.h5\")\n",
    "# mm.summary()"
   ]
  },
  {
   "cell_type": "code",
   "execution_count": 9,
   "metadata": {
    "collapsed": false
   },
   "outputs": [],
   "source": [
    "probs = mm.predict(img_matrix.reshape(1,1,28, 28))\n"
   ]
  },
  {
   "cell_type": "code",
   "execution_count": 10,
   "metadata": {
    "collapsed": true
   },
   "outputs": [],
   "source": [
    "import operator\n",
    "max_index = max(enumerate(probs[0]), key=operator.itemgetter(1))"
   ]
  },
  {
   "cell_type": "code",
   "execution_count": 11,
   "metadata": {
    "collapsed": false
   },
   "outputs": [
    {
     "name": "stdout",
     "output_type": "stream",
     "text": [
      "(0, 0.99999583)\n"
     ]
    }
   ],
   "source": [
    "print max_index"
   ]
  },
  {
   "cell_type": "code",
   "execution_count": 12,
   "metadata": {
    "collapsed": false
   },
   "outputs": [
    {
     "data": {
      "text/plain": [
       "0.99999583"
      ]
     },
     "execution_count": 12,
     "metadata": {},
     "output_type": "execute_result"
    }
   ],
   "source": [
    "max(probs[0])\n"
   ]
  },
  {
   "cell_type": "code",
   "execution_count": null,
   "metadata": {
    "collapsed": true
   },
   "outputs": [],
   "source": []
  }
 ],
 "metadata": {
  "kernelspec": {
   "display_name": "Python 2",
   "language": "python",
   "name": "python2"
  },
  "language_info": {
   "codemirror_mode": {
    "name": "ipython",
    "version": 2
   },
   "file_extension": ".py",
   "mimetype": "text/x-python",
   "name": "python",
   "nbconvert_exporter": "python",
   "pygments_lexer": "ipython2",
   "version": "2.7.12"
  }
 },
 "nbformat": 4,
 "nbformat_minor": 2
}
